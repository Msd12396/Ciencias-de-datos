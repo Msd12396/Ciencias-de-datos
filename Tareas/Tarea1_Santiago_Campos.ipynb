{
 "cells": [
  {
   "cell_type": "markdown",
   "id": "5460c487",
   "metadata": {},
   "source": [
    "## Tarea 1: Repaso de los conceptos básicos de Python\n",
    "### Ciencia de datos para físicos: Facultad de ciencias, UNAM\n",
    "#### Profesores: Karen Rubí Jiménez-López, Pedro Arturo Flores-Silva\n",
    "\n",
    "**Instrucciones:** Este notebook contiene una serie de ejercicios que deben ser resueltos. Cada ejercicio se encuentra en una celda, ya sea de código o Markdown. Debes crear una o dos *celdas debajo de cada ejercicio* con tu(s) respectiva(s) respuestas. No modifiques las celdas originales.\n",
    "\n",
    "Recuerda que para ejecutar el código de una celda, presionar `Ctlr + Enter` o bien el boton de `play` en el editor Jupyter notebook.\n",
    "\n",
    "Cada ejercicio tendrá diferente valor, y se indicará en la celda de éste. La calificación final será la suma de los puntos obtenidos en cada ejercicio. Se calificará considerando la calidad de la respuesta, la claridad de la explicación y la correctitud del código. Por ejemplo, si el código no ejecuta la respuesta correcta pero se da una idea textual, se demuestra que hay comprensión del problema y el código hace sentido para el revisor, se otorgará una calificación parcial. Esto es, las respuestas no solo se evaluarán como bien o mal, sino que se considerará el esfuerzo.\n",
    "\n",
    "El codigo que realices debes comentarlo donde creas necesario, no vale no hacer ningún comentario. Recuerda que los comentarios son importantes para que el código sea legible y entendible, éstos se agregan con el símbolo #. Para las funciones y/o clases que crees, agrega la documentación correspondiente (docstring), éste se agrega con `\"\"\" docstring \"\"\"`."
   ]
  },
  {
   "cell_type": "markdown",
   "id": "66df713a",
   "metadata": {},
   "source": [
    "### Ejercicio 1 (1 punto):\n",
    "En una celda Markdown contesta: \n",
    "* ¿Qué es una palabra reservada en python? Enlista 5 ejemplos de nombres reservados en python y describe su función.\n",
    "* Coloca tres ejemplos de nombres de variables que no son válidos en python. Explica por qué no son válidos."
   ]
  },
  {
   "cell_type": "markdown",
   "id": "2c36d452",
   "metadata": {},
   "source": [
    "1. Es una palabra que tiene una función en específico en Python y no podemos usarla para nombrar variables. :\n",
    "* True: Es uno de los dos valores que se le puede asignar a una variable booleana. Literalmente signfica que algo es verdad. \n",
    "* for: Se utiliza para clear un ciclo de comandos que repiten n-veces. Donde se define en el código cuantas veces se realiza el ciclo.\n",
    "* or: Es un operador lógico que asigna el valor de falsedad cuando las dos afirmaciones a ser analizadas son falsas, caso contrario resulta en verdad.\n",
    "* return: Dentro de una función, define lo que la función regresa. \n",
    "* def: Se utiliza para definir funciones hechas por el usuario.\n",
    "2. Algunos ejemplos son:\n",
    "* x. No puede existir la variable \"x.\" pues la variable termina con \".\".\n",
    "* 2x Las variables no pueden empezar con números\n",
    "* hola-mundo No se puede usar el símbolo \"-\" como nombre de a una variable, dicho símbolo está reservado para la operación substracción."
   ]
  },
  {
   "cell_type": "markdown",
   "id": "8f4fd89b",
   "metadata": {},
   "source": [
    "### Ejercicio 2 (1 punto):\n",
    "\n",
    "En una celda de código, escribe una función que encuentre las raíces de cualquier polinomio de segundo grado (implementar la chicharronera). En una celda markdown detalla posibles casos en la cual la función podría fallar.\n",
    "Usa dicha función para encontrar las raíces del polinomio $f(x) = 10x^2 - 2x$ e imprimelas en pantalla."
   ]
  },
  {
   "cell_type": "code",
   "execution_count": 31,
   "id": "1892fa3c",
   "metadata": {},
   "outputs": [
    {
     "name": "stdout",
     "output_type": "stream",
     "text": [
      "Las raíces son 0.0 y -0.2\n"
     ]
    }
   ],
   "source": [
    "import numpy as np\n",
    "def chicharronera(a,b,c):\n",
    "    x1=(b+np.sqrt(b**2-4*a*c))/(2*a)\n",
    "    x2=(b-np.sqrt(b**2-4*a*c))/(2*a)\n",
    "    print(\"Las raíces son\", x1, \"y\", x2)\n",
    "chicharronera(10,-2,0)"
   ]
  },
  {
   "cell_type": "markdown",
   "id": "5faa2198",
   "metadata": {},
   "source": [
    "Si bien la función calcula la raíz del polinomio que le solicitamos, si el determinante es menor a 0, entonces la función arrojaría un error. Si le falta un argumento también fallaría. Si a es igual a 0, también arrojaría un error, pues estaríamos diviendo entre 0."
   ]
  },
  {
   "cell_type": "markdown",
   "id": "7610c62b",
   "metadata": {},
   "source": [
    "### Ejercicio 3 (1 punto):\n",
    "\n",
    "*Caida libre*: El gran Galileo Galilei subió la torre de Pisa para determinar el tiempo que tarda un objeto en caer desde una altura $H$ al suelo. Para ello, colocó un objeto de masa $m=100$ kg en la torre y lo dejó caer. El tiempo que tardó en caer fue $t=0.05616667$ minutos.\n",
    "\n",
    "Considerando que la aceleración de la gravedad es $g=9.8$ $\\frac{m}{s^2}$, escribe un programa que determine la altura de la torre de Pisa. El programa debe imprimir la altura en la pantalla.\n",
    "\n",
    "Recuerda que el movimiento de caída libre simplificado cumple la ecuación: $y(t) = H + vt - \\frac{1}{2}gt^2$."
   ]
  },
  {
   "cell_type": "markdown",
   "id": "9fe05ad6",
   "metadata": {},
   "source": [
    "Como buscamos la altura dado el tiempo de caída total, entonces buscamos el tiempo para el cual $y(t)=0$ y además como es caída libre la velocidad inicial es 0, con lo cual la ecuación puede escribirse como:\n",
    "\\begin{align}\n",
    "0&=H -\\frac{1}{2}gt^2\\\\\n",
    "H&= \\frac{1}{2}gt^2\n",
    "\\end{align}"
   ]
  },
  {
   "cell_type": "code",
   "execution_count": 38,
   "id": "a65c5aea",
   "metadata": {},
   "outputs": [
    {
     "name": "stdout",
     "output_type": "stream",
     "text": [
      "La altura de la torre de Pisa es 55.64881660520021 m.\n"
     ]
    }
   ],
   "source": [
    "def altura(t):\n",
    "    T=60*t\n",
    "    H=(9.8*(T**2))/2\n",
    "    print(\"La altura de la torre de Pisa es\", H, \"m.\")\n",
    "altura(0.05616667)"
   ]
  },
  {
   "cell_type": "markdown",
   "id": "bf2d28e7",
   "metadata": {},
   "source": [
    "### Ejercicio 4 (1 punto):\n",
    "Crea una lista de números enteros del 0 al 99 : `lista = [0,1, 2, 3, 4, ... , 95, 96, 97, 98, 99]` (6 puntos menos si creas la lista manualmente).\n",
    " \n",
    "Escribe un programa que imprima en la pantalla una la lista que cumpla con las siguientes condiciones:\n",
    "* Los ultimos 10 elementos: debe imprimir lo siguiente `[90, 91, 92, 93, 94, 95, 96, 97, 98, 99]`.\n",
    "* Los primeros 11 elementos: debe imprimir lo siguiente `[0, 1, 2, 3, 4, 5, 6, 7, 8, 9, 10]`.\n",
    "* La serie de elementos de la lista que están entre 60 y 75: debe imprimir lo siguiente `[60, 61, 62, 63, 64, 65, 66, 67, 68, 69, 70, 71, 72, 73, 74, 75]`.\n",
    "* El número 50: debe imprimir lo siguiente `50`.\n",
    "\n",
    "Debes aplicar el concepto de *slicing* para resolver este ejercicio (notación de puntos `[:]`).\n",
    "\n",
    "Puntos menos si se crean listas nuevas para cada caso y/o se seleccionan manualmente los valores."
   ]
  },
  {
   "cell_type": "code",
   "execution_count": 54,
   "id": "333b7b4a",
   "metadata": {},
   "outputs": [
    {
     "name": "stdout",
     "output_type": "stream",
     "text": [
      "[90, 91, 92, 93, 94, 95, 96, 97, 98, 99]\n",
      "[0, 1, 2, 3, 4, 5, 6, 7, 8, 9, 10, 11]\n",
      "[60, 61, 62, 63, 64, 65, 66, 67, 68, 69, 70, 71, 72, 73, 74, 75]\n",
      "50\n"
     ]
    }
   ],
   "source": [
    "lista=list(range(100))\n",
    "print(lista[90:100])\n",
    "print(lista[0:12])\n",
    "print(lista[60:76])\n",
    "print(lista[50])"
   ]
  },
  {
   "cell_type": "markdown",
   "id": "ac5b94d8",
   "metadata": {},
   "source": [
    "### Ejercicio 5 (1 punto):\n",
    "Crea una lista de números enteros del 0 al 1000. A partir de dicha lista:\n",
    "* Guarda en una variable una lista con los números pares usando ciclos y condicionales. Imprime los últimos 10 elementos de la lista final.\n",
    "* Guarda en una variable una lista con los números impares usando listas comprensivas (comprehension list). Imprime los primeros 10 elementos de la lista final."
   ]
  },
  {
   "cell_type": "code",
   "execution_count": 102,
   "id": "f586dfa6",
   "metadata": {},
   "outputs": [
    {
     "name": "stdout",
     "output_type": "stream",
     "text": [
      "[982, 984, 986, 988, 990, 992, 994, 996, 998, 1000]\n",
      "[1, 3, 5, 7, 9, 11, 13, 15, 17, 19]\n"
     ]
    }
   ],
   "source": [
    "lista1=list(range(1001))\n",
    "par=[]\n",
    "\n",
    "for i in lista1:\n",
    "    if i%2==0:\n",
    "        par.append(i) #Ciclo for y condicional if para obtener los números pares\n",
    "impar = [i for i in lista1 if i % 2 == 1 ] #Lista comprensiva para números impares\n",
    "print(par[len(par)-10:len(par)]) #Se imprimen lo últimos 10 elementos\n",
    "print(impar[0:10])"
   ]
  },
  {
   "cell_type": "markdown",
   "id": "00462693",
   "metadata": {},
   "source": [
    "### Ejercicio 6 (2 puntos): Aproximación de $\\pi$\n",
    "Una de las formas más sencillas de aproximar $\\pi$ es mediante la siguiente serie infinita de Leibniz:\n",
    "$$\\frac{\\pi}{4} = \\sum_{n=0}^{\\infty}\\frac{(-1)^{n}}{(2n+1)} = \\frac{1}{1} - \\frac{1}{3} + \\frac{1}{5}-\\frac{1}{7}+\\frac{1}{9}-...$$\n",
    "\n",
    "crea una función para aproximar $\\pi$ utilizando la serie de Leibniz. Usa n = 100000 e imprime el valor de tu aproximación tanto el valor de $\\frac{\\pi}{4}$ como $\\pi$.\n",
    "\n",
    "El valor de $\\pi$ se obtiene al despejar:\n",
    "$$\\pi = 4 * \\left(\\sum_{n=0}^{\\infty}\\frac{(-1)^{n}}{(2n+1)} \\right)$$\n",
    "\n",
    "La siguiente celda de codigo ofrece el valor de $\\frac{\\pi}{4}$"
   ]
  },
  {
   "cell_type": "code",
   "execution_count": 1,
   "id": "a4a31d07",
   "metadata": {},
   "outputs": [
    {
     "name": "stdout",
     "output_type": "stream",
     "text": [
      "El valor de pi/4 es aproximadamente 0.7853981633974483\n"
     ]
    }
   ],
   "source": [
    "import numpy as np\n",
    "#El valor de pi/4\n",
    "print(\"El valor de pi/4 es aproximadamente {}\".format(np.pi/4))"
   ]
  },
  {
   "cell_type": "code",
   "execution_count": 115,
   "id": "ee4b2d80",
   "metadata": {},
   "outputs": [
    {
     "name": "stdout",
     "output_type": "stream",
     "text": [
      "(3.1415826535897198, 0.7853956633974299)\n"
     ]
    }
   ],
   "source": [
    "def pi(n):\n",
    "    pi_4=0\n",
    "    for i in range(n):\n",
    "        pi_4+=(-1)**i/(2*i+1)\n",
    "    pi=pi_4*4\n",
    "    return pi, pi_4\n",
    "print(pi(100000))"
   ]
  },
  {
   "cell_type": "markdown",
   "id": "d0c28e6e",
   "metadata": {},
   "source": [
    "### Ejercicio 7 (1 puntos): Identificador de vocales\n",
    "\n",
    "Escribe una función que reciba una cadena, por ejemplo 'el pErro de la tiA chOnita' y regrese la cantidad de vocales que contiene. La función debe contener varios casos de prueba, if, elif y else. Con la cadena de ejemplo, imprime en pantalla el resultado de la función (10).\n",
    "\n",
    "Para conocer si un caracter es una vocal, primero debes descomponer la cadena en caracteres individuales. Para ello observa el siguiente código:"
   ]
  },
  {
   "cell_type": "code",
   "execution_count": 6,
   "id": "55a65e0f",
   "metadata": {},
   "outputs": [
    {
     "name": "stdout",
     "output_type": "stream",
     "text": [
      "['e', 'l', ' ', 'p', 'e', 'r', 'r', 'o', ' ', 'd', 'e', ' ', 'l', 'a', ' ', 't', 'i', 'a', ' ', 'c', 'h', 'o', 'n', 'i', 't', 'a']\n"
     ]
    }
   ],
   "source": [
    "# Divide una cadena en caracteres individuales\n",
    "cadena_prueba = 'el pErro de la tiA chOnita'\n",
    "caracteres_individuales = list(cadena_prueba)\n",
    "print(caracteres_individuales)"
   ]
  },
  {
   "cell_type": "code",
   "execution_count": 156,
   "id": "6f208608",
   "metadata": {},
   "outputs": [
    {
     "name": "stdout",
     "output_type": "stream",
     "text": [
      "10\n",
      "0\n",
      "Introduce tu frase:Hola MundO\n",
      "Tu frase tiene 4 vocales\n"
     ]
    }
   ],
   "source": [
    "def contador_vocales(frase):\n",
    "    caracteres=list(frase) #convertimos a una lista con cada caracter la frase recibida\n",
    "    contador=0\n",
    "    for letra in caracteres: #en este ciclo for, para cada elemento de la lista caracter se compara como los caracteres aeiouAEIOU, si coincide el contador aumenta en 1 su valor\n",
    "        if letra==\"a\":\n",
    "            contador+=1\n",
    "        elif letra==\"e\":\n",
    "            contador+=1\n",
    "        elif letra==\"i\":\n",
    "            contador+=1\n",
    "        elif letra==\"o\":\n",
    "            contador+=1\n",
    "        elif letra==\"u\":\n",
    "            contador+=1\n",
    "        elif letra==\"A\":\n",
    "            contador+=1\n",
    "        elif letra==\"E\":\n",
    "            contador+=1\n",
    "        elif letra==\"I\":\n",
    "            contador+=1\n",
    "        elif letra==\"O\":\n",
    "            contador+=1\n",
    "        elif letra==\"U\":\n",
    "            contador+=1\n",
    "    return contador #Finalmente contador nos dará el valor de las vocales que estén presentes en la frase introducida\n",
    "print(contador_vocales(\"el pErro de la tiA chOnita\"))\n",
    "print(contador_vocales(\"sssssssssss kkkkkkk frjktcd\"))\n",
    "frase=input(\"Introduce tu frase:\")\n",
    "print(\"Tu frase tiene\", contador_vocales(frase), \"vocales\")"
   ]
  },
  {
   "cell_type": "markdown",
   "id": "fb89fa24",
   "metadata": {},
   "source": [
    "### Ejercicio 8 (2 puntos):\n",
    "\n",
    "Escribe una clase \"calculadora\" que regrese el resultado de las operaciones de suma, resta, multiplicacion, division, modulo y potencia. La clase debe contener un método para cada operación.\n",
    "\n",
    "Los métodos que pudiesen presentar errores como division entre cero, deben ser manejados de tal manera que el programa no imprima ningun error (vimos una clausula para hacer esto).\n",
    "\n",
    "Adicional a esto, los métodos modulo y potencia deben ser generales, es decir, deben funcionar para cualquier número entero positivo (es un parámetro extra del método). Por ejemplo, la potencia de 2 elevado a 3 es 8, la potencia de 5 elevado a 3 es 125, etc.\n",
    "\n",
    "Crea una instancia de la clase calculadora y prueba cada uno de los métodos, con valores de tu elección. Para los métodos que pudiesen presentar errores da dos ejemplos, uno totalmente funcional (3/5 por ejemplo) y otro que sea conflictivo pero que no regresa ningún error (4/0 por ejemplo)."
   ]
  },
  {
   "cell_type": "code",
   "execution_count": 202,
   "id": "d4e8ed41",
   "metadata": {},
   "outputs": [
    {
     "name": "stdout",
     "output_type": "stream",
     "text": [
      "9\n",
      "-1\n",
      "20\n",
      "0.8\n",
      "4\n",
      "1024\n",
      "Error, división por 0\n",
      "Error, división por 0\n"
     ]
    }
   ],
   "source": [
    "class Calculadora: #Se define la clase calculadora con sus operaciones.\n",
    "    def __init__(self, a, b):\n",
    "        self.a=a\n",
    "        self.b=b\n",
    "    def suma(self):\n",
    "        return self.a+self.b\n",
    "    def resta(self):\n",
    "        return self.a-self.b\n",
    "    def multi(self):\n",
    "        return self.a*self.b\n",
    "    def divi(self):\n",
    "        try:\n",
    "            return self.a/self.b\n",
    "        except ZeroDivisionError:\n",
    "            print(\"Error, división por 0\")\n",
    "    def mod(self):\n",
    "        try:\n",
    "            return self.a%self.b\n",
    "        except ZeroDivisionError:\n",
    "            print(\"Error, división por 0\")\n",
    "    def pot(self):\n",
    "        return self.a**self.b\n",
    "\n",
    "prueba1=Calculadora(4,5)\n",
    "print(prueba1.suma())\n",
    "print(prueba1.resta())\n",
    "print(prueba1.multi())\n",
    "print(prueba1.divi())\n",
    "print(prueba1.mod())\n",
    "print(prueba1.pot()) #Prueba de todas las operaciones\n",
    "prueba2=Calculadora(4,0) #Para operaciones del estilo división intentamos con (4,0)\n",
    "prueba2.divi() #La división entre 0 no arroja ningún error, solo imprime en pantalla que sea ha divido entre 0.\n",
    "prueba2.mod() #El módulo entre 0 no arroja ningún error, solo imprime en pantalla que sea ha divido entre 0."
   ]
  },
  {
   "cell_type": "markdown",
   "id": "c6e4da53",
   "metadata": {},
   "source": [
    "### Ejercicio de puntos extras opcional (1 punto):\n",
    "\n",
    "Supóngamos que tenemos una lista de números enteros y queremos encontrar el número más grande. Por ejemplo, si la lista es `[1, 2, 3, 4, 5]` el número más grande es 5. Crea una función que encuentre el número más grande en una lista de números. La función debe regresar el número más grande y el índice en el que se encuentra. Prueba la función con una lista de números de tu elección."
   ]
  },
  {
   "cell_type": "code",
   "execution_count": 217,
   "id": "6d49f20b",
   "metadata": {},
   "outputs": [
    {
     "data": {
      "text/plain": [
       "(190, 2)"
      ]
     },
     "execution_count": 217,
     "metadata": {},
     "output_type": "execute_result"
    }
   ],
   "source": [
    "def mayor(lista):\n",
    "    max=lista[0]\n",
    "    for i in lista:\n",
    "        if i>max:\n",
    "            max=i\n",
    "    \n",
    "    return max, lista.index(max)\n",
    "lista=[3,4,190,-3,14]\n",
    "mayor(lista)"
   ]
  },
  {
   "cell_type": "markdown",
   "id": "525883b3",
   "metadata": {},
   "source": [
    "### Ejercicio de puntos extras opcional (3 puntos):\n",
    "\n",
    "Supóngamos que tenemos un dado convencional de 6 caras. Crea una función que simule el lanzamiento de un dado. La función debe regresar un número aleatorio entre 1 y 6.\n",
    "\n",
    "Sabemos que la probabilidad de que salga un número es de $\\frac{1}{6}$, es decir, la probabilidad de que salga un 1 es de $\\frac{1}{6}$, la probabilidad de que salga un 2 es de $\\frac{1}{6}$, etc.\n",
    "\n",
    "* Prueba la función con 6 lanzamientos, en una celda markdown explica porqué el resultado es dificilmente [1, 2, 3, 4, 5, 6].\n",
    "\n",
    "* Prueba la función con 1000 lanzamientos, crea una grafica de barras de los resultados (investiga como puedes graficar los resultados en una grafica de barras) y explica a que distribucion se parece y porqué es así.\n",
    "\n",
    "Hint: Para crear los números aleatorios, puedes usar la función `random.randint()`. O bien, usar el modulo numpy para crearlos. Para graficar los resultados, puedes usar la libreria matplotlib, seaborn, plotly o cualquiera que se te haga más fácil."
   ]
  },
  {
   "cell_type": "code",
   "execution_count": 227,
   "id": "a73686a1",
   "metadata": {},
   "outputs": [
    {
     "data": {
      "text/plain": [
       "[2, 4, 5, 4, 3, 4]"
      ]
     },
     "execution_count": 227,
     "metadata": {},
     "output_type": "execute_result"
    }
   ],
   "source": [
    "import random\n",
    "random.randint(1,6)\n",
    "def resultados(n):\n",
    "    lanzamientos=[]\n",
    "    for i in range(n):\n",
    "        x=random.randint(1,6)\n",
    "        lanzamientos.append(x)\n",
    "    return lanzamientos\n",
    "resultados(6)"
   ]
  },
  {
   "cell_type": "markdown",
   "id": "36973f09",
   "metadata": {},
   "source": [
    "La probabilidad de que en la primera tirada nos salga 1, es de $\\frac{1}{6}$, que en la segunda salga 2 es $\\frac{1}{6}$, y así susecivamente. Con lo cual la probabilidad de que ocurra dicha tirada en ese orden es:\n",
    "\\begin{equation}\n",
    "\\left(\\frac{1}{6}\\right)^{6}\\approx 0.00002\n",
    "\\end{equation}\n",
    "Lo cual es una probalidad muy pequeña"
   ]
  },
  {
   "cell_type": "code",
   "execution_count": 251,
   "id": "64efec8c",
   "metadata": {},
   "outputs": [
    {
     "data": {
      "text/plain": [
       "<function matplotlib.pyplot.show(close=None, block=None)>"
      ]
     },
     "execution_count": 251,
     "metadata": {},
     "output_type": "execute_result"
    },
    {
     "data": {
      "image/png": "[encoded data removed]",
      "text/plain": [
       "<Figure size 432x288 with 1 Axes>"
      ]
     },
     "metadata": {
      "needs_background": "light"
     },
     "output_type": "display_data"
    }
   ],
   "source": [
    "grafica=resultados(1000)\n",
    "cuenta=[]\n",
    "numeros=list(range(1,7))\n",
    "x=0\n",
    "for i in range(1,7):\n",
    "    x=grafica.count(i)\n",
    "    cuenta.append(x)\n",
    "cuenta\n",
    "numeros\n",
    "import matplotlib.pyplot as plt\n",
    "plt.bar(numeros, cuenta)\n",
    "plt.show"
   ]
  },
  {
   "cell_type": "markdown",
   "id": "64e4647e",
   "metadata": {},
   "source": [
    "Los resultados son bastante similares para cada tirada, con lo cual podríamos hablar de que se trata de una distribución uniforme. Si repitiéramos el proceso más veces el resultado se acercaría más al teórico."
   ]
  }
 ],
 "metadata": {
  "kernelspec": {
   "display_name": "Python 3 (ipykernel)",
   "language": "python",
   "name": "python3"
  },
  "language_info": {
   "codemirror_mode": {
    "name": "ipython",
    "version": 3
   },
   "file_extension": ".py",
   "mimetype": "text/x-python",
   "name": "python",
   "nbconvert_exporter": "python",
   "pygments_lexer": "ipython3",
   "version": "3.9.12"
  },
  "vscode": {
   "interpreter": {
    "hash": "ad2bdc8ecc057115af97d19610ffacc2b4e99fae6737bb82f5d7fb13d2f2c186"
   }
  }
 },
 "nbformat": 4,
 "nbformat_minor": 5
}
